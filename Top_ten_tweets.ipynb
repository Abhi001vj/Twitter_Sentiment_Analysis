{
 "cells": [
  {
   "cell_type": "code",
   "execution_count": 1,
   "metadata": {
    "collapsed": false
   },
   "outputs": [
    {
     "name": "stdout",
     "output_type": "stream",
     "text": [
      "MTVHottest 189\n",
      "TeenChoiceAwards 55\n",
      "MPN 52\n",
      "MTVSummerStar 31\n",
      "ESCREVEAI 29\n",
      "myfavoritevlog 17\n",
      "CABELOSDEALGODÃO 15\n",
      "PSYKontra 14\n",
      "DragMeDownDay 14\n",
      "トレクル 8\n"
     ]
    }
   ],
   "source": [
    "__author__ = 'devv'\n",
    "import sys\n",
    "import json\n",
    "\n",
    "tweet_file = open(\"three_minutes_tweets.json\")\n",
    "\n",
    "counts = dict()\n",
    "for line in tweet_file:\n",
    "    js = json.loads(line)\n",
    "    try:\n",
    "\n",
    "        hashtag = js[\"entities\"][\"hashtags\"]\n",
    "        for i in hashtag:\n",
    "            hashtags = i[\"text\"]\n",
    "            #print hashtags\n",
    "            counts[hashtags] = counts.get(hashtags,0) + 1\n",
    "\n",
    "    except:\n",
    "        continue\n",
    "\n",
    "s =list()\n",
    "for k,v in counts.items():\n",
    "    s.append((v,k))\n",
    "\n",
    "s.sort(reverse=True)\n",
    "\n",
    "for k,v in s[0:10]:\n",
    "    ve =v.encode('utf-8')\n",
    "    print ve,k\n",
    "\n",
    "\n",
    "\n"
   ]
  },
  {
   "cell_type": "code",
   "execution_count": null,
   "metadata": {
    "collapsed": true
   },
   "outputs": [],
   "source": []
  }
 ],
 "metadata": {
  "kernelspec": {
   "display_name": "Python 2",
   "language": "python",
   "name": "python2"
  },
  "language_info": {
   "codemirror_mode": {
    "name": "ipython",
    "version": 2
   },
   "file_extension": ".py",
   "mimetype": "text/x-python",
   "name": "python",
   "nbconvert_exporter": "python",
   "pygments_lexer": "ipython2",
   "version": "2.7.10"
  }
 },
 "nbformat": 4,
 "nbformat_minor": 0
}
