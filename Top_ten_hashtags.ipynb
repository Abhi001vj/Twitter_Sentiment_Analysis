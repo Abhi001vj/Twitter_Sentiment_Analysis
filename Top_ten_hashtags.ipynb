{
 "cells": [
  {
   "cell_type": "code",
   "execution_count": 1,
   "metadata": {
    "collapsed": false
   },
   "outputs": [
    {
     "name": "stdout",
     "output_type": "stream",
     "text": [
      "KCA 2\n",
      "ALDUB29thWeeksary 2\n",
      "온라인카지노 1\n",
      "사과머리금발나무 1\n",
      "相田リコ生誕祭2016 1\n",
      "相互フォロー 1\n",
      "毎週楽しみだって人rt 1\n",
      "ドロシーレオナ生誕祭2016 1\n",
      "ทวิตดีคนรีน้อย 1\n",
      "الحرمان 1\n"
     ]
    }
   ],
   "source": [
    "import sys\n",
    "import json\n",
    "\n",
    "tweet_file = open(\"output.txt\")\n",
    "\n",
    "counts = dict()\n",
    "for line in tweet_file:\n",
    "    js = json.loads(line)\n",
    "    try:\n",
    "\n",
    "        hashtag = js[\"entities\"][\"hashtags\"]\n",
    "        for i in hashtag:\n",
    "            hashtags = i[\"text\"]\n",
    "            #print hashtags\n",
    "            counts[hashtags] = counts.get(hashtags,0) + 1\n",
    "\n",
    "    except:\n",
    "        continue\n",
    "\n",
    "s =list()\n",
    "for k,v in counts.items():\n",
    "    s.append((v,k))\n",
    "\n",
    "s.sort(reverse=True)\n",
    "\n",
    "for k,v in s[0:10]:\n",
    "    ve =v.encode('utf-8')\n",
    "    print ve,k\n"
   ]
  },
  {
   "cell_type": "code",
   "execution_count": null,
   "metadata": {
    "collapsed": true
   },
   "outputs": [],
   "source": []
  }
 ],
 "metadata": {
  "kernelspec": {
   "display_name": "Python 2",
   "language": "python",
   "name": "python2"
  },
  "language_info": {
   "codemirror_mode": {
    "name": "ipython",
    "version": 2
   },
   "file_extension": ".py",
   "mimetype": "text/x-python",
   "name": "python",
   "nbconvert_exporter": "python",
   "pygments_lexer": "ipython2",
   "version": "2.7.10"
  }
 },
 "nbformat": 4,
 "nbformat_minor": 0
}
